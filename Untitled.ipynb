{
 "cells": [
  {
   "cell_type": "code",
   "execution_count": 1,
   "id": "7716d2b4-a9e7-47ef-990f-fc8509c56a52",
   "metadata": {},
   "outputs": [],
   "source": [
    "#21CE1341 - Nityam Shitap\n",
    "import pandas as pd"
   ]
  },
  {
   "cell_type": "code",
   "execution_count": 2,
   "id": "6fe5e09f-d046-451c-b8be-49b589b065d5",
   "metadata": {},
   "outputs": [],
   "source": [
    "minecraft_data = [\n",
    "    {\"Material\": \"Stone\", \"Hardness\": 1.5, \"Blast Resistance\": 30, \"Tool\": \"Pickaxe\"},\n",
    "    {\"Material\": \"Wood\", \"Hardness\": 2, \"Blast Resistance\": 15, \"Tool\": \"Axe\"},\n",
    "    {\"Material\": \"Iron\", \"Hardness\": 5, \"Blast Resistance\": 30, \"Tool\": \"Pickaxe\"},\n",
    "    {\"Material\": \"Diamond\", \"Hardness\": 3, \"Blast Resistance\": 30, \"Tool\": \"Pickaxe\"},\n",
    "    {\"Material\": \"Gold\", \"Hardness\": 3, \"Blast Resistance\": 30, \"Tool\": \"Pickaxe\"},\n",
    "    {\"Material\": \"Obsidian\", \"Hardness\": 50, \"Blast Resistance\": 6000, \"Tool\": \"Diamond Pickaxe\"},\n",
    "]"
   ]
  },
  {
   "cell_type": "code",
   "execution_count": 3,
   "id": "182501ef-b3c7-40b5-9968-ee5f50e8a670",
   "metadata": {},
   "outputs": [
    {
     "name": "stdout",
     "output_type": "stream",
     "text": [
      "   Material  Hardness  Blast Resistance             Tool\n",
      "0     Stone       1.5                30          Pickaxe\n",
      "1      Wood       2.0                15              Axe\n",
      "2      Iron       5.0                30          Pickaxe\n",
      "3   Diamond       3.0                30          Pickaxe\n",
      "4      Gold       3.0                30          Pickaxe\n",
      "5  Obsidian      50.0              6000  Diamond Pickaxe\n"
     ]
    }
   ],
   "source": [
    "minecraft_df = pd.DataFrame(minecraft_data)\n",
    "print(minecraft_df)"
   ]
  },
  {
   "cell_type": "code",
   "execution_count": 4,
   "id": "b64ca2f5-136c-4b57-beb4-48287d95a937",
   "metadata": {},
   "outputs": [],
   "source": [
    "minecraft_df[\"Availability\"] = [\"Common\", \"Common\", \"Rare\", \"Rare\", \"Rare\", \"Very Rare\"]"
   ]
  },
  {
   "cell_type": "code",
   "execution_count": 24,
   "id": "5c8de9e7-bd50-4489-9016-83affcd2be85",
   "metadata": {},
   "outputs": [],
   "source": [
    "rare_materials = minecraft_df[minecraft_df[\"Availability\"] == \"Rare\"]"
   ]
  },
  {
   "cell_type": "code",
   "execution_count": 25,
   "id": "f76b2dcd-ce0e-4eb1-bb27-4fb3aa3534e0",
   "metadata": {},
   "outputs": [],
   "source": [
    "rare_materials_subset = rare_materials[[\"Material\", \"Tool\"]]"
   ]
  },
  {
   "cell_type": "code",
   "execution_count": 26,
   "id": "d24255d2-e6bb-4644-a933-75ac2f4c7e2d",
   "metadata": {},
   "outputs": [
    {
     "name": "stdout",
     "output_type": "stream",
     "text": [
      "Updated DataFrame:\n",
      "   Material  Hardness  Blast Resistance             Tool Availability\n",
      "0     Stone       1.5                30          Pickaxe       Common\n",
      "1      Wood       2.0                15              Axe       Common\n",
      "2      Iron       5.0                30          Pickaxe         Rare\n",
      "3   Diamond       3.0                30          Pickaxe         Rare\n",
      "4      Gold       3.0                30          Pickaxe         Rare\n",
      "5  Obsidian      50.0              6000  Diamond Pickaxe    Very Rare\n"
     ]
    }
   ],
   "source": [
    "print(\"Updated DataFrame:\")\n",
    "print(minecraft_df)"
   ]
  },
  {
   "cell_type": "code",
   "execution_count": 27,
   "id": "73f9fc90-35b6-4a67-b5cd-0d12a6a8c6b2",
   "metadata": {},
   "outputs": [
    {
     "name": "stdout",
     "output_type": "stream",
     "text": [
      "\n",
      "Rare Materials:\n",
      "  Material  Hardness  Blast Resistance     Tool Availability\n",
      "2     Iron       5.0                30  Pickaxe         Rare\n",
      "3  Diamond       3.0                30  Pickaxe         Rare\n",
      "4     Gold       3.0                30  Pickaxe         Rare\n"
     ]
    }
   ],
   "source": [
    "print(\"\\nRare Materials:\")\n",
    "print(rare_materials)"
   ]
  },
  {
   "cell_type": "code",
   "execution_count": 28,
   "id": "472fc945-1aea-41e6-87f7-cd8cfe0b255d",
   "metadata": {},
   "outputs": [
    {
     "name": "stdout",
     "output_type": "stream",
     "text": [
      "\n",
      "Material and Tool for Rare Materials:\n",
      "  Material     Tool\n",
      "2     Iron  Pickaxe\n",
      "3  Diamond  Pickaxe\n",
      "4     Gold  Pickaxe\n"
     ]
    }
   ],
   "source": [
    "print(\"\\nMaterial and Tool for Rare Materials:\")\n",
    "print(rare_materials_subset)"
   ]
  }
 ],
 "metadata": {
  "kernelspec": {
   "display_name": "Python 3 (ipykernel)",
   "language": "python",
   "name": "python3"
  },
  "language_info": {
   "codemirror_mode": {
    "name": "ipython",
    "version": 3
   },
   "file_extension": ".py",
   "mimetype": "text/x-python",
   "name": "python",
   "nbconvert_exporter": "python",
   "pygments_lexer": "ipython3",
   "version": "3.11.2"
  }
 },
 "nbformat": 4,
 "nbformat_minor": 5
}
